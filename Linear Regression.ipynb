{
 "cells": [
  {
   "cell_type": "code",
   "execution_count": 78,
   "metadata": {
    "collapsed": true
   },
   "outputs": [],
   "source": [
    "from sklearn.cross_validation import KFold\n",
    "from sklearn.linear_model import LinearRegression, Lasso, Ridge, ElasticNet, SGDRegressor\n",
    "import numpy as np\n",
    "import pandas as pd\n",
    "import pylab as pl"
   ]
  },
  {
   "cell_type": "code",
   "execution_count": 3,
   "metadata": {
    "collapsed": false
   },
   "outputs": [
    {
     "name": "stdout",
     "output_type": "stream",
     "text": [
      "/Users/Marco/Documents/CSC 478/data/communities\n"
     ]
    }
   ],
   "source": [
    "cd /Users/Marco/Documents/CSC 478/data/communities"
   ]
  },
  {
   "cell_type": "code",
   "execution_count": 18,
   "metadata": {
    "collapsed": false
   },
   "outputs": [],
   "source": [
    "df = pd.read_csv(\"communities.csv\")"
   ]
  },
  {
   "cell_type": "markdown",
   "metadata": {},
   "source": [
    "## 1.a\n",
    "- Preprocess Data\n",
    "- Compute and display basic statistics\n",
    "- Separate the target attribute for regression"
   ]
  },
  {
   "cell_type": "code",
   "execution_count": 19,
   "metadata": {
    "collapsed": false,
    "scrolled": true
   },
   "outputs": [
    {
     "data": {
      "text/html": [
       "<div>\n",
       "<table border=\"1\" class=\"dataframe\">\n",
       "  <thead>\n",
       "    <tr style=\"text-align: right;\">\n",
       "      <th></th>\n",
       "      <th>state</th>\n",
       "      <th>communityname</th>\n",
       "      <th>population</th>\n",
       "      <th>householdsize</th>\n",
       "      <th>racepctblack</th>\n",
       "      <th>racePctWhite</th>\n",
       "      <th>racePctAsian</th>\n",
       "      <th>racePctHisp</th>\n",
       "      <th>agePct12t21</th>\n",
       "      <th>agePct12t29</th>\n",
       "      <th>...</th>\n",
       "      <th>NumStreet</th>\n",
       "      <th>PctForeignBorn</th>\n",
       "      <th>PctBornSameState</th>\n",
       "      <th>PctSameHouse85</th>\n",
       "      <th>PctSameCity85</th>\n",
       "      <th>PctSameState85</th>\n",
       "      <th>LandArea</th>\n",
       "      <th>PopDens</th>\n",
       "      <th>PctUsePubTrans</th>\n",
       "      <th>ViolentCrimesPerPop</th>\n",
       "    </tr>\n",
       "  </thead>\n",
       "  <tbody>\n",
       "    <tr>\n",
       "      <th>count</th>\n",
       "      <td>1994.000000</td>\n",
       "      <td>1994</td>\n",
       "      <td>1994.000000</td>\n",
       "      <td>1994.000000</td>\n",
       "      <td>1994.000000</td>\n",
       "      <td>1994.000000</td>\n",
       "      <td>1994.000000</td>\n",
       "      <td>1994.000000</td>\n",
       "      <td>1994.000000</td>\n",
       "      <td>1994.000000</td>\n",
       "      <td>...</td>\n",
       "      <td>1994.000000</td>\n",
       "      <td>1994.000000</td>\n",
       "      <td>1994.000000</td>\n",
       "      <td>1994.000000</td>\n",
       "      <td>1994.000000</td>\n",
       "      <td>1994.000000</td>\n",
       "      <td>1994.000000</td>\n",
       "      <td>1994.000000</td>\n",
       "      <td>1994.000000</td>\n",
       "      <td>1994.000000</td>\n",
       "    </tr>\n",
       "    <tr>\n",
       "      <th>unique</th>\n",
       "      <td>NaN</td>\n",
       "      <td>1828</td>\n",
       "      <td>NaN</td>\n",
       "      <td>NaN</td>\n",
       "      <td>NaN</td>\n",
       "      <td>NaN</td>\n",
       "      <td>NaN</td>\n",
       "      <td>NaN</td>\n",
       "      <td>NaN</td>\n",
       "      <td>NaN</td>\n",
       "      <td>...</td>\n",
       "      <td>NaN</td>\n",
       "      <td>NaN</td>\n",
       "      <td>NaN</td>\n",
       "      <td>NaN</td>\n",
       "      <td>NaN</td>\n",
       "      <td>NaN</td>\n",
       "      <td>NaN</td>\n",
       "      <td>NaN</td>\n",
       "      <td>NaN</td>\n",
       "      <td>NaN</td>\n",
       "    </tr>\n",
       "    <tr>\n",
       "      <th>top</th>\n",
       "      <td>NaN</td>\n",
       "      <td>Jacksonvillecity</td>\n",
       "      <td>NaN</td>\n",
       "      <td>NaN</td>\n",
       "      <td>NaN</td>\n",
       "      <td>NaN</td>\n",
       "      <td>NaN</td>\n",
       "      <td>NaN</td>\n",
       "      <td>NaN</td>\n",
       "      <td>NaN</td>\n",
       "      <td>...</td>\n",
       "      <td>NaN</td>\n",
       "      <td>NaN</td>\n",
       "      <td>NaN</td>\n",
       "      <td>NaN</td>\n",
       "      <td>NaN</td>\n",
       "      <td>NaN</td>\n",
       "      <td>NaN</td>\n",
       "      <td>NaN</td>\n",
       "      <td>NaN</td>\n",
       "      <td>NaN</td>\n",
       "    </tr>\n",
       "    <tr>\n",
       "      <th>freq</th>\n",
       "      <td>NaN</td>\n",
       "      <td>5</td>\n",
       "      <td>NaN</td>\n",
       "      <td>NaN</td>\n",
       "      <td>NaN</td>\n",
       "      <td>NaN</td>\n",
       "      <td>NaN</td>\n",
       "      <td>NaN</td>\n",
       "      <td>NaN</td>\n",
       "      <td>NaN</td>\n",
       "      <td>...</td>\n",
       "      <td>NaN</td>\n",
       "      <td>NaN</td>\n",
       "      <td>NaN</td>\n",
       "      <td>NaN</td>\n",
       "      <td>NaN</td>\n",
       "      <td>NaN</td>\n",
       "      <td>NaN</td>\n",
       "      <td>NaN</td>\n",
       "      <td>NaN</td>\n",
       "      <td>NaN</td>\n",
       "    </tr>\n",
       "    <tr>\n",
       "      <th>mean</th>\n",
       "      <td>28.683551</td>\n",
       "      <td>NaN</td>\n",
       "      <td>0.057593</td>\n",
       "      <td>0.463395</td>\n",
       "      <td>0.179629</td>\n",
       "      <td>0.753716</td>\n",
       "      <td>0.153681</td>\n",
       "      <td>0.144022</td>\n",
       "      <td>0.424218</td>\n",
       "      <td>0.493867</td>\n",
       "      <td>...</td>\n",
       "      <td>0.022778</td>\n",
       "      <td>0.215552</td>\n",
       "      <td>0.608892</td>\n",
       "      <td>0.535050</td>\n",
       "      <td>0.626424</td>\n",
       "      <td>0.651530</td>\n",
       "      <td>0.065231</td>\n",
       "      <td>0.232854</td>\n",
       "      <td>0.161685</td>\n",
       "      <td>0.237979</td>\n",
       "    </tr>\n",
       "    <tr>\n",
       "      <th>std</th>\n",
       "      <td>16.397553</td>\n",
       "      <td>NaN</td>\n",
       "      <td>0.126906</td>\n",
       "      <td>0.163717</td>\n",
       "      <td>0.253442</td>\n",
       "      <td>0.244039</td>\n",
       "      <td>0.208877</td>\n",
       "      <td>0.232492</td>\n",
       "      <td>0.155196</td>\n",
       "      <td>0.143564</td>\n",
       "      <td>...</td>\n",
       "      <td>0.100400</td>\n",
       "      <td>0.231134</td>\n",
       "      <td>0.204329</td>\n",
       "      <td>0.181352</td>\n",
       "      <td>0.200521</td>\n",
       "      <td>0.198221</td>\n",
       "      <td>0.109459</td>\n",
       "      <td>0.203092</td>\n",
       "      <td>0.229055</td>\n",
       "      <td>0.232985</td>\n",
       "    </tr>\n",
       "    <tr>\n",
       "      <th>min</th>\n",
       "      <td>1.000000</td>\n",
       "      <td>NaN</td>\n",
       "      <td>0.000000</td>\n",
       "      <td>0.000000</td>\n",
       "      <td>0.000000</td>\n",
       "      <td>0.000000</td>\n",
       "      <td>0.000000</td>\n",
       "      <td>0.000000</td>\n",
       "      <td>0.000000</td>\n",
       "      <td>0.000000</td>\n",
       "      <td>...</td>\n",
       "      <td>0.000000</td>\n",
       "      <td>0.000000</td>\n",
       "      <td>0.000000</td>\n",
       "      <td>0.000000</td>\n",
       "      <td>0.000000</td>\n",
       "      <td>0.000000</td>\n",
       "      <td>0.000000</td>\n",
       "      <td>0.000000</td>\n",
       "      <td>0.000000</td>\n",
       "      <td>0.000000</td>\n",
       "    </tr>\n",
       "    <tr>\n",
       "      <th>25%</th>\n",
       "      <td>12.000000</td>\n",
       "      <td>NaN</td>\n",
       "      <td>0.010000</td>\n",
       "      <td>0.350000</td>\n",
       "      <td>0.020000</td>\n",
       "      <td>0.630000</td>\n",
       "      <td>0.040000</td>\n",
       "      <td>0.010000</td>\n",
       "      <td>0.340000</td>\n",
       "      <td>0.410000</td>\n",
       "      <td>...</td>\n",
       "      <td>0.000000</td>\n",
       "      <td>0.060000</td>\n",
       "      <td>0.470000</td>\n",
       "      <td>0.420000</td>\n",
       "      <td>0.520000</td>\n",
       "      <td>0.560000</td>\n",
       "      <td>0.020000</td>\n",
       "      <td>0.100000</td>\n",
       "      <td>0.020000</td>\n",
       "      <td>0.070000</td>\n",
       "    </tr>\n",
       "    <tr>\n",
       "      <th>50%</th>\n",
       "      <td>34.000000</td>\n",
       "      <td>NaN</td>\n",
       "      <td>0.020000</td>\n",
       "      <td>0.440000</td>\n",
       "      <td>0.060000</td>\n",
       "      <td>0.850000</td>\n",
       "      <td>0.070000</td>\n",
       "      <td>0.040000</td>\n",
       "      <td>0.400000</td>\n",
       "      <td>0.480000</td>\n",
       "      <td>...</td>\n",
       "      <td>0.000000</td>\n",
       "      <td>0.130000</td>\n",
       "      <td>0.630000</td>\n",
       "      <td>0.540000</td>\n",
       "      <td>0.670000</td>\n",
       "      <td>0.700000</td>\n",
       "      <td>0.040000</td>\n",
       "      <td>0.170000</td>\n",
       "      <td>0.070000</td>\n",
       "      <td>0.150000</td>\n",
       "    </tr>\n",
       "    <tr>\n",
       "      <th>75%</th>\n",
       "      <td>42.000000</td>\n",
       "      <td>NaN</td>\n",
       "      <td>0.050000</td>\n",
       "      <td>0.540000</td>\n",
       "      <td>0.230000</td>\n",
       "      <td>0.940000</td>\n",
       "      <td>0.170000</td>\n",
       "      <td>0.160000</td>\n",
       "      <td>0.470000</td>\n",
       "      <td>0.540000</td>\n",
       "      <td>...</td>\n",
       "      <td>0.000000</td>\n",
       "      <td>0.280000</td>\n",
       "      <td>0.777500</td>\n",
       "      <td>0.660000</td>\n",
       "      <td>0.770000</td>\n",
       "      <td>0.790000</td>\n",
       "      <td>0.070000</td>\n",
       "      <td>0.280000</td>\n",
       "      <td>0.190000</td>\n",
       "      <td>0.330000</td>\n",
       "    </tr>\n",
       "    <tr>\n",
       "      <th>max</th>\n",
       "      <td>56.000000</td>\n",
       "      <td>NaN</td>\n",
       "      <td>1.000000</td>\n",
       "      <td>1.000000</td>\n",
       "      <td>1.000000</td>\n",
       "      <td>1.000000</td>\n",
       "      <td>1.000000</td>\n",
       "      <td>1.000000</td>\n",
       "      <td>1.000000</td>\n",
       "      <td>1.000000</td>\n",
       "      <td>...</td>\n",
       "      <td>1.000000</td>\n",
       "      <td>1.000000</td>\n",
       "      <td>1.000000</td>\n",
       "      <td>1.000000</td>\n",
       "      <td>1.000000</td>\n",
       "      <td>1.000000</td>\n",
       "      <td>1.000000</td>\n",
       "      <td>1.000000</td>\n",
       "      <td>1.000000</td>\n",
       "      <td>1.000000</td>\n",
       "    </tr>\n",
       "  </tbody>\n",
       "</table>\n",
       "<p>11 rows × 100 columns</p>\n",
       "</div>"
      ],
      "text/plain": [
       "              state     communityname   population  householdsize  \\\n",
       "count   1994.000000              1994  1994.000000    1994.000000   \n",
       "unique          NaN              1828          NaN            NaN   \n",
       "top             NaN  Jacksonvillecity          NaN            NaN   \n",
       "freq            NaN                 5          NaN            NaN   \n",
       "mean      28.683551               NaN     0.057593       0.463395   \n",
       "std       16.397553               NaN     0.126906       0.163717   \n",
       "min        1.000000               NaN     0.000000       0.000000   \n",
       "25%       12.000000               NaN     0.010000       0.350000   \n",
       "50%       34.000000               NaN     0.020000       0.440000   \n",
       "75%       42.000000               NaN     0.050000       0.540000   \n",
       "max       56.000000               NaN     1.000000       1.000000   \n",
       "\n",
       "        racepctblack  racePctWhite  racePctAsian  racePctHisp  agePct12t21  \\\n",
       "count    1994.000000   1994.000000   1994.000000  1994.000000  1994.000000   \n",
       "unique           NaN           NaN           NaN          NaN          NaN   \n",
       "top              NaN           NaN           NaN          NaN          NaN   \n",
       "freq             NaN           NaN           NaN          NaN          NaN   \n",
       "mean        0.179629      0.753716      0.153681     0.144022     0.424218   \n",
       "std         0.253442      0.244039      0.208877     0.232492     0.155196   \n",
       "min         0.000000      0.000000      0.000000     0.000000     0.000000   \n",
       "25%         0.020000      0.630000      0.040000     0.010000     0.340000   \n",
       "50%         0.060000      0.850000      0.070000     0.040000     0.400000   \n",
       "75%         0.230000      0.940000      0.170000     0.160000     0.470000   \n",
       "max         1.000000      1.000000      1.000000     1.000000     1.000000   \n",
       "\n",
       "        agePct12t29         ...             NumStreet  PctForeignBorn  \\\n",
       "count   1994.000000         ...           1994.000000     1994.000000   \n",
       "unique          NaN         ...                   NaN             NaN   \n",
       "top             NaN         ...                   NaN             NaN   \n",
       "freq            NaN         ...                   NaN             NaN   \n",
       "mean       0.493867         ...              0.022778        0.215552   \n",
       "std        0.143564         ...              0.100400        0.231134   \n",
       "min        0.000000         ...              0.000000        0.000000   \n",
       "25%        0.410000         ...              0.000000        0.060000   \n",
       "50%        0.480000         ...              0.000000        0.130000   \n",
       "75%        0.540000         ...              0.000000        0.280000   \n",
       "max        1.000000         ...              1.000000        1.000000   \n",
       "\n",
       "        PctBornSameState  PctSameHouse85  PctSameCity85  PctSameState85  \\\n",
       "count        1994.000000     1994.000000    1994.000000     1994.000000   \n",
       "unique               NaN             NaN            NaN             NaN   \n",
       "top                  NaN             NaN            NaN             NaN   \n",
       "freq                 NaN             NaN            NaN             NaN   \n",
       "mean            0.608892        0.535050       0.626424        0.651530   \n",
       "std             0.204329        0.181352       0.200521        0.198221   \n",
       "min             0.000000        0.000000       0.000000        0.000000   \n",
       "25%             0.470000        0.420000       0.520000        0.560000   \n",
       "50%             0.630000        0.540000       0.670000        0.700000   \n",
       "75%             0.777500        0.660000       0.770000        0.790000   \n",
       "max             1.000000        1.000000       1.000000        1.000000   \n",
       "\n",
       "           LandArea      PopDens  PctUsePubTrans  ViolentCrimesPerPop  \n",
       "count   1994.000000  1994.000000     1994.000000          1994.000000  \n",
       "unique          NaN          NaN             NaN                  NaN  \n",
       "top             NaN          NaN             NaN                  NaN  \n",
       "freq            NaN          NaN             NaN                  NaN  \n",
       "mean       0.065231     0.232854        0.161685             0.237979  \n",
       "std        0.109459     0.203092        0.229055             0.232985  \n",
       "min        0.000000     0.000000        0.000000             0.000000  \n",
       "25%        0.020000     0.100000        0.020000             0.070000  \n",
       "50%        0.040000     0.170000        0.070000             0.150000  \n",
       "75%        0.070000     0.280000        0.190000             0.330000  \n",
       "max        1.000000     1.000000        1.000000             1.000000  \n",
       "\n",
       "[11 rows x 100 columns]"
      ]
     },
     "execution_count": 19,
     "metadata": {},
     "output_type": "execute_result"
    }
   ],
   "source": [
    "df.describe(include=\"all\")"
   ]
  },
  {
   "cell_type": "code",
   "execution_count": 20,
   "metadata": {
    "collapsed": false
   },
   "outputs": [],
   "source": [
    "df = df.drop(\"state\",1)\n",
    "df = df.drop(\"communityname\",1)\n",
    "df = df.apply(pd.to_numeric,errors='coerce')\n",
    "df.dropna(axis=0, inplace=True)\n",
    "target = df[\"ViolentCrimesPerPop\"]\n",
    "df = df.drop(\"ViolentCrimesPerPop\",1)"
   ]
  },
  {
   "cell_type": "code",
   "execution_count": 21,
   "metadata": {
    "collapsed": false,
    "scrolled": true
   },
   "outputs": [],
   "source": [
    "#Converting pandas data frame to array\n",
    "data = df.values\n",
    "y  = target.values"
   ]
  },
  {
   "cell_type": "code",
   "execution_count": 22,
   "metadata": {
    "collapsed": false
   },
   "outputs": [],
   "source": [
    "# In order to do multiple regression we need to add a column of 1s for x0\n",
    "x = np.array([np.concatenate((v,[1])) for v in data])"
   ]
  },
  {
   "cell_type": "markdown",
   "metadata": {},
   "source": [
    "## 1.b\n",
    "- Perform SLR \n",
    "- Compute RMSE value on training data\n",
    "- Plot correlation (predicted vs. actual)\n",
    "- Display the obtained regression coef\n",
    "- Perfrom 10-fold cross validation"
   ]
  },
  {
   "cell_type": "code",
   "execution_count": 23,
   "metadata": {
    "collapsed": true
   },
   "outputs": [],
   "source": [
    "def standRegres(xArr,yArr):\n",
    "    xMat = np.mat(xArr);yMat = np.mat(yArr).T\n",
    "    xTx  = xMat.T*xMat\n",
    "    if np.linalg.det(xTx)==0.0:\n",
    "        print \"This matrix is singular, cannot do the inverse\"\n",
    "        return \n",
    "    ws = xTx.I * (xMat.T*yMat)\n",
    "    return ws"
   ]
  },
  {
   "cell_type": "code",
   "execution_count": 24,
   "metadata": {
    "collapsed": false
   },
   "outputs": [],
   "source": [
    "w = standRegres(x,y)"
   ]
  },
  {
   "cell_type": "code",
   "execution_count": 26,
   "metadata": {
    "collapsed": true
   },
   "outputs": [],
   "source": [
    "np.set_printoptions(precision=2, linewidth=50, suppress=True, edgeitems=4)"
   ]
  },
  {
   "cell_type": "markdown",
   "metadata": {},
   "source": [
    "#### Display the regression coefficients:"
   ]
  },
  {
   "cell_type": "code",
   "execution_count": 27,
   "metadata": {
    "collapsed": false
   },
   "outputs": [
    {
     "name": "stdout",
     "output_type": "stream",
     "text": [
      "[[ 0.16]\n",
      " [-0.03]\n",
      " [ 0.21]\n",
      " [-0.04]\n",
      " [-0.01]\n",
      " [ 0.06]\n",
      " [ 0.12]\n",
      " [-0.22]\n",
      " [-0.14]\n",
      " [ 0.06]\n",
      " [-0.26]\n",
      " [ 0.05]\n",
      " [-0.2 ]\n",
      " [-0.21]\n",
      " [ 0.05]\n",
      " [-0.17]\n",
      " [ 0.06]\n",
      " [ 0.01]\n",
      " [-0.09]\n",
      " [ 0.27]\n",
      " [ 0.1 ]\n",
      " [-0.33]\n",
      " [-0.03]\n",
      " [-0.04]\n",
      " [ 0.02]\n",
      " [ 0.04]\n",
      " [ 0.04]\n",
      " [ 0.12]\n",
      " [-0.18]\n",
      " [-0.09]\n",
      " [ 0.06]\n",
      " [ 0.11]\n",
      " [ 0.  ]\n",
      " [ 0.23]\n",
      " [-0.04]\n",
      " [-0.01]\n",
      " [ 0.49]\n",
      " [ 0.22]\n",
      " [ 0.2 ]\n",
      " [-0.61]\n",
      " [-0.14]\n",
      " [ 0.06]\n",
      " [-0.35]\n",
      " [-0.04]\n",
      " [ 0.  ]\n",
      " [ 0.06]\n",
      " [-0.18]\n",
      " [-0.16]\n",
      " [ 0.13]\n",
      " [-0.14]\n",
      " [ 0.02]\n",
      " [ 0.04]\n",
      " [-0.08]\n",
      " [ 0.03]\n",
      " [-0.03]\n",
      " [-0.22]\n",
      " [ 0.44]\n",
      " [-0.19]\n",
      " [-0.02]\n",
      " [-0.14]\n",
      " [ 0.06]\n",
      " [-0.21]\n",
      " [ 0.65]\n",
      " [-0.07]\n",
      " [-0.25]\n",
      " [-0.67]\n",
      " [ 0.2 ]\n",
      " [ 0.1 ]\n",
      " [ 0.03]\n",
      " [ 0.17]\n",
      " [-0.04]\n",
      " [ 0.56]\n",
      " [ 0.05]\n",
      " [-0.08]\n",
      " [-0.03]\n",
      " [ 0.01]\n",
      " [-0.01]\n",
      " [-0.34]\n",
      " [ 0.27]\n",
      " [ 0.01]\n",
      " [-0.23]\n",
      " [-0.04]\n",
      " [-0.06]\n",
      " [ 0.38]\n",
      " [ 0.04]\n",
      " [-0.04]\n",
      " [-0.08]\n",
      " [ 0.13]\n",
      " [ 0.18]\n",
      " [ 0.12]\n",
      " [ 0.01]\n",
      " [-0.02]\n",
      " [ 0.03]\n",
      " [ 0.01]\n",
      " [ 0.03]\n",
      " [-0.01]\n",
      " [-0.04]\n",
      " [ 0.57]]\n"
     ]
    }
   ],
   "source": [
    "print w"
   ]
  },
  {
   "cell_type": "markdown",
   "metadata": {},
   "source": [
    "**Now that we have the regression coefficients, we can compute the predictions:**"
   ]
  },
  {
   "cell_type": "code",
   "execution_count": 28,
   "metadata": {
    "collapsed": false
   },
   "outputs": [],
   "source": [
    "xMat = np.mat(x)\n",
    "yMat = np.mat(y)\n",
    "yHat = xMat*w"
   ]
  },
  {
   "cell_type": "markdown",
   "metadata": {},
   "source": [
    "The first 10 predictions..."
   ]
  },
  {
   "cell_type": "code",
   "execution_count": 30,
   "metadata": {
    "collapsed": false
   },
   "outputs": [
    {
     "name": "stdout",
     "output_type": "stream",
     "text": [
      "[[ 0.17]\n",
      " [ 0.29]\n",
      " [ 0.38]\n",
      " [ 0.32]\n",
      " [-0.02]\n",
      " [ 0.23]\n",
      " [ 0.09]\n",
      " [ 0.45]\n",
      " [ 0.24]\n",
      " [ 0.01]]\n"
     ]
    }
   ],
   "source": [
    "print yHat[0:10]"
   ]
  },
  {
   "cell_type": "markdown",
   "metadata": {},
   "source": [
    "...compared to the actual values."
   ]
  },
  {
   "cell_type": "code",
   "execution_count": 34,
   "metadata": {
    "collapsed": false
   },
   "outputs": [
    {
     "name": "stdout",
     "output_type": "stream",
     "text": [
      "[[ 0.2 ]\n",
      " [ 0.67]\n",
      " [ 0.43]\n",
      " [ 0.12]\n",
      " [ 0.03]\n",
      " [ 0.14]\n",
      " [ 0.03]\n",
      " [ 0.55]\n",
      " [ 0.53]\n",
      " [ 0.15]]\n"
     ]
    }
   ],
   "source": [
    "print yMat.T[0:10]"
   ]
  },
  {
   "cell_type": "code",
   "execution_count": 42,
   "metadata": {
    "collapsed": true
   },
   "outputs": [],
   "source": [
    "err = abs(yHat-yMat.T)"
   ]
  },
  {
   "cell_type": "markdown",
   "metadata": {},
   "source": [
    "**Training RMSE**"
   ]
  },
  {
   "cell_type": "code",
   "execution_count": 48,
   "metadata": {
    "collapsed": false
   },
   "outputs": [
    {
     "name": "stdout",
     "output_type": "stream",
     "text": [
      "0.128691194406\n"
     ]
    }
   ],
   "source": [
    "total_error = np.asscalar(np.dot(err.T,err))\n",
    "rmse_train = np.sqrt(total_error/len(yHat))\n",
    "print rmse_train"
   ]
  },
  {
   "cell_type": "code",
   "execution_count": 186,
   "metadata": {
    "collapsed": false
   },
   "outputs": [
    {
     "data": {
      "image/png": "[encoded data removed]",
      "text/plain": [
       "<matplotlib.figure.Figure at 0x1194e6190>"
      ]
     },
     "metadata": {},
     "output_type": "display_data"
    }
   ],
   "source": [
    "%matplotlib inline\n",
    "pl.plot(yHat, y,'ro')\n",
    "pl.plot([0,2],[0,1], 'g-')\n",
    "pl.xlabel('Predicted')\n",
    "pl.ylabel('Actual')\n",
    "pl.title('Correlation: Actual vs Predicted')\n",
    "pl.show()"
   ]
  },
  {
   "cell_type": "code",
   "execution_count": 63,
   "metadata": {
    "collapsed": true
   },
   "outputs": [],
   "source": [
    "linreg = LinearRegression()"
   ]
  },
  {
   "cell_type": "markdown",
   "metadata": {},
   "source": [
    "**10-fold Cross-Validation using KFold**"
   ]
  },
  {
   "cell_type": "code",
   "execution_count": 64,
   "metadata": {
    "collapsed": false
   },
   "outputs": [],
   "source": [
    "kf = KFold(len(x),n_folds=10)\n",
    "xval_err=0\n",
    "for train,test in kf:\n",
    "    linreg.fit(x[train],y[train])\n",
    "    p = linreg.predict(x[test])\n",
    "    e = p - y[test]\n",
    "    xval_err += np.dot(e,e)\n",
    "rmse_10cv = np.sqrt(xval_err/len(x))"
   ]
  },
  {
   "cell_type": "markdown",
   "metadata": {},
   "source": [
    "**Final RMSE**"
   ]
  },
  {
   "cell_type": "code",
   "execution_count": 65,
   "metadata": {
    "collapsed": false
   },
   "outputs": [
    {
     "name": "stdout",
     "output_type": "stream",
     "text": [
      "0.136298055672\n"
     ]
    }
   ],
   "source": [
    "print rmse_10cv"
   ]
  },
  {
   "cell_type": "code",
   "execution_count": 132,
   "metadata": {
    "collapsed": true
   },
   "outputs": [],
   "source": [
    "from sklearn.cross_validation import train_test_split\n",
    "X_train, X_test, y_train, y_test = train_test_split(x,y,test_size=0.2, random_state=33) "
   ]
  },
  {
   "cell_type": "code",
   "execution_count": 187,
   "metadata": {
    "collapsed": false
   },
   "outputs": [
    {
     "data": {
      "text/plain": [
       "LinearRegression(copy_X=True, fit_intercept=True, n_jobs=1, normalize=False)"
      ]
     },
     "execution_count": 187,
     "metadata": {},
     "output_type": "execute_result"
    }
   ],
   "source": [
    "from sklearn import cross_validation,feature_selection\n",
    "glm = LinearRegression()\n",
    "glm.fit(X_train,y_train)"
   ]
  },
  {
   "cell_type": "markdown",
   "metadata": {},
   "source": [
    "### 1.c Feature Selection"
   ]
  },
  {
   "cell_type": "code",
   "execution_count": 190,
   "metadata": {
    "collapsed": true
   },
   "outputs": [],
   "source": [
    "def find_best_percentile(model,train,target,K=5):\n",
    "    \"\"\"The function takes as input the training data, target attribute,K-value, and model and returns \n",
    "       the optimal percentage of the most informative features to use. \n",
    "    \"\"\"\n",
    "    percentiles = range(1, 100, 5)\n",
    "    results = []\n",
    "    for i in range(1, 100, 5):\n",
    "        fs = feature_selection.SelectPercentile(feature_selection.f_regression, percentile=i)\n",
    "        X_train_fs = fs.fit_transform(train, target)\n",
    "        scores = cross_validation.cross_val_score(model, X_train_fs, target,scoring='mean_absolute_error',cv=K)\n",
    "#         print i,scores.mean()\n",
    "        results = np.append(results, scores.mean())\n",
    "    optimal_percentil = np.where(results == results.max())[0]\n",
    "    pl.figure()\n",
    "    pl.xlabel(\"Percentage of features selected\")\n",
    "    pl.ylabel(\"MAE Values\")\n",
    "    pl.title(\"MAE vs % of features selected\")\n",
    "    pl.plot(percentiles,results)\n",
    "    return int(optimal_percentil)"
   ]
  },
  {
   "cell_type": "markdown",
   "metadata": {},
   "source": [
    "Plot of model's MAE values on x-Validation relative to the percentage of selected features"
   ]
  },
  {
   "cell_type": "code",
   "execution_count": 191,
   "metadata": {
    "collapsed": false
   },
   "outputs": [
    {
     "name": "stdout",
     "output_type": "stream",
     "text": [
      "8\n"
     ]
    },
    {
     "data": {
      "image/png": "[encoded data removed]",
      "text/plain": [
       "<matplotlib.figure.Figure at 0x109189ad0>"
      ]
     },
     "metadata": {},
     "output_type": "display_data"
    }
   ],
   "source": [
    "print find_best_percentile(glm,X_train,y_train,10)"
   ]
  },
  {
   "cell_type": "code",
   "execution_count": 129,
   "metadata": {
    "collapsed": true
   },
   "outputs": [],
   "source": [
    "fs = feature_selection.SelectPercentile(feature_selection.f_regression, percentile = 8)\n",
    "X_train_fs = fs.fit_transform(x,y)"
   ]
  },
  {
   "cell_type": "markdown",
   "metadata": {},
   "source": [
    "**List of the most informative variables and their weights**"
   ]
  },
  {
   "cell_type": "code",
   "execution_count": 130,
   "metadata": {
    "collapsed": false
   },
   "outputs": [
    {
     "name": "stdout",
     "output_type": "stream",
     "text": [
      "racepctblack \t1330.47773112\n",
      "racePctWhite \t1766.24094051\n",
      "pctWInvInc \t991.106863264\n",
      "PctFam2Par \t1994.73506209\n",
      "PctKids2Par \t2398.92777975\n",
      "PctYoungKids2Par \t1596.53025626\n",
      "PctTeen2Par \t1555.89546616\n",
      "PctIlleg \t2399.43681052\n"
     ]
    }
   ],
   "source": [
    "for i in range(len(df.columns.values)):\n",
    "    if fs.get_support()[i]:\n",
    "        print df.columns.values[i],'\\t',fs.scores_[i]"
   ]
  },
  {
   "cell_type": "code",
   "execution_count": 192,
   "metadata": {
    "collapsed": false
   },
   "outputs": [],
   "source": [
    "alpha =np.linspace(.01,20,50)\n"
   ]
  },
  {
   "cell_type": "markdown",
   "metadata": {},
   "source": [
    "**Alpha trial for Ridge Regression**"
   ]
  },
  {
   "cell_type": "code",
   "execution_count": 205,
   "metadata": {
    "collapsed": false
   },
   "outputs": [
    {
     "name": "stdout",
     "output_type": "stream",
     "text": [
      "Ridge Regression\n",
      "alpha\t RMSE_train\t RMSE_10cv\n",
      "\n",
      "0.010\t 0.1287\t\t 0.1362\n",
      "0.418\t 0.1292\t\t 0.1354\n",
      "0.826\t 0.1295\t\t 0.1354\n",
      "1.234\t 0.1298\t\t 0.1354\n",
      "1.642\t 0.1301\t\t 0.1354\n",
      "2.050\t 0.1303\t\t 0.1354\n",
      "2.458\t 0.1305\t\t 0.1355\n",
      "2.866\t 0.1307\t\t 0.1355\n",
      "3.274\t 0.1309\t\t 0.1356\n",
      "3.682\t 0.1310\t\t 0.1356\n",
      "4.090\t 0.1312\t\t 0.1357\n",
      "4.498\t 0.1313\t\t 0.1357\n",
      "4.906\t 0.1315\t\t 0.1358\n",
      "5.313\t 0.1316\t\t 0.1358\n",
      "5.721\t 0.1317\t\t 0.1359\n",
      "6.129\t 0.1318\t\t 0.1359\n",
      "6.537\t 0.1319\t\t 0.1360\n",
      "6.945\t 0.1320\t\t 0.1360\n",
      "7.353\t 0.1321\t\t 0.1360\n",
      "7.761\t 0.1322\t\t 0.1361\n",
      "8.169\t 0.1323\t\t 0.1361\n",
      "8.577\t 0.1324\t\t 0.1362\n",
      "8.985\t 0.1325\t\t 0.1362\n",
      "9.393\t 0.1326\t\t 0.1362\n",
      "9.801\t 0.1326\t\t 0.1363\n",
      "10.209\t 0.1327\t\t 0.1363\n",
      "10.617\t 0.1328\t\t 0.1363\n",
      "11.025\t 0.1328\t\t 0.1364\n",
      "11.433\t 0.1329\t\t 0.1364\n",
      "11.841\t 0.1330\t\t 0.1364\n",
      "12.249\t 0.1330\t\t 0.1365\n",
      "12.657\t 0.1331\t\t 0.1365\n",
      "13.065\t 0.1332\t\t 0.1365\n",
      "13.473\t 0.1332\t\t 0.1365\n",
      "13.881\t 0.1333\t\t 0.1366\n",
      "14.289\t 0.1333\t\t 0.1366\n",
      "14.697\t 0.1334\t\t 0.1366\n",
      "15.104\t 0.1334\t\t 0.1367\n",
      "15.512\t 0.1335\t\t 0.1367\n",
      "15.920\t 0.1335\t\t 0.1367\n",
      "16.328\t 0.1336\t\t 0.1367\n",
      "16.736\t 0.1336\t\t 0.1368\n",
      "17.144\t 0.1337\t\t 0.1368\n",
      "17.552\t 0.1337\t\t 0.1368\n",
      "17.960\t 0.1338\t\t 0.1368\n",
      "18.368\t 0.1338\t\t 0.1369\n",
      "18.776\t 0.1339\t\t 0.1369\n",
      "19.184\t 0.1339\t\t 0.1369\n",
      "19.592\t 0.1340\t\t 0.1369\n",
      "20.000\t 0.1340\t\t 0.1370\n"
     ]
    }
   ],
   "source": [
    "print('Ridge Regression')\n",
    "print('alpha\\t RMSE_train\\t RMSE_10cv\\n')\n",
    "alpha = np.linspace(.01,20,50)\n",
    "t_rmse = np.array([])\n",
    "cv_rmse = np.array([])\n",
    "\n",
    "for a in alpha:\n",
    "    ridge = Ridge(fit_intercept=True, alpha=a)\n",
    "    \n",
    "    # computing the RMSE on training data\n",
    "    ridge.fit(x,y)\n",
    "    p = ridge.predict(x)\n",
    "    err = p-y\n",
    "    total_error = np.dot(err,err)\n",
    "    rmse_train = np.sqrt(total_error/len(p))\n",
    "\n",
    "    # computing RMSE using 10-fold cross validation\n",
    "    kf = KFold(len(x), n_folds=10)\n",
    "    xval_err = 0\n",
    "    for train, test in kf:\n",
    "        ridge.fit(x[train], y[train])\n",
    "        p = ridge.predict(x[test])\n",
    "        err = p - y[test]\n",
    "        xval_err += np.dot(err,err)\n",
    "    rmse_10cv = np.sqrt(xval_err/len(x))\n",
    "    \n",
    "    t_rmse = np.append(t_rmse, [rmse_train])\n",
    "    cv_rmse = np.append(cv_rmse, [rmse_10cv])\n",
    "    print('{:.3f}\\t {:.4f}\\t\\t {:.4f}'.format(a,rmse_train,rmse_10cv))"
   ]
  },
  {
   "cell_type": "code",
   "execution_count": 206,
   "metadata": {
    "collapsed": false
   },
   "outputs": [
    {
     "data": {
      "image/png": "[encoded data removed]",
      "text/plain": [
       "<matplotlib.figure.Figure at 0x110f6e350>"
      ]
     },
     "metadata": {},
     "output_type": "display_data"
    }
   ],
   "source": [
    "pl.plot(alpha, t_rmse, label='RMSE-Train')\n",
    "pl.plot(alpha, cv_rmse, label='RMSE_XVal')\n",
    "pl.legend( ('RMSE-Train', 'RMSE_XVal'),loc='lower right' )\n",
    "pl.ylabel('RMSE')\n",
    "pl.xlabel('Alpha')\n",
    "pl.show()"
   ]
  },
  {
   "cell_type": "markdown",
   "metadata": {},
   "source": [
    "**Alpha trial for lasso regression**"
   ]
  },
  {
   "cell_type": "code",
   "execution_count": 207,
   "metadata": {
    "collapsed": false
   },
   "outputs": [
    {
     "name": "stdout",
     "output_type": "stream",
     "text": [
      "Lasso Regression\n",
      "alpha\t RMSE_train\t RMSE_10cv\n",
      "\n",
      "0.010\t 0.1541\t\t 0.1545\n",
      "0.418\t 0.2330\t\t 0.2330\n",
      "0.826\t 0.2330\t\t 0.2330\n",
      "1.234\t 0.2330\t\t 0.2330\n",
      "1.642\t 0.2330\t\t 0.2330\n",
      "2.050\t 0.2330\t\t 0.2330\n",
      "2.458\t 0.2330\t\t 0.2330\n",
      "2.866\t 0.2330\t\t 0.2330\n",
      "3.274\t 0.2330\t\t 0.2330\n",
      "3.682\t 0.2330\t\t 0.2330\n",
      "4.090\t 0.2330\t\t 0.2330\n",
      "4.498\t 0.2330\t\t 0.2330\n",
      "4.906\t 0.2330\t\t 0.2330\n",
      "5.313\t 0.2330\t\t 0.2330\n",
      "5.721\t 0.2330\t\t 0.2330\n",
      "6.129\t 0.2330\t\t 0.2330\n",
      "6.537\t 0.2330\t\t 0.2330\n",
      "6.945\t 0.2330\t\t 0.2330\n",
      "7.353\t 0.2330\t\t 0.2330\n",
      "7.761\t 0.2330\t\t 0.2330\n",
      "8.169\t 0.2330\t\t 0.2330\n",
      "8.577\t 0.2330\t\t 0.2330\n",
      "8.985\t 0.2330\t\t 0.2330\n",
      "9.393\t 0.2330\t\t 0.2330\n",
      "9.801\t 0.2330\t\t 0.2330\n",
      "10.209\t 0.2330\t\t 0.2330\n",
      "10.617\t 0.2330\t\t 0.2330\n",
      "11.025\t 0.2330\t\t 0.2330\n",
      "11.433\t 0.2330\t\t 0.2330\n",
      "11.841\t 0.2330\t\t 0.2330\n",
      "12.249\t 0.2330\t\t 0.2330\n",
      "12.657\t 0.2330\t\t 0.2330\n",
      "13.065\t 0.2330\t\t 0.2330\n",
      "13.473\t 0.2330\t\t 0.2330\n",
      "13.881\t 0.2330\t\t 0.2330\n",
      "14.289\t 0.2330\t\t 0.2330\n",
      "14.697\t 0.2330\t\t 0.2330\n",
      "15.104\t 0.2330\t\t 0.2330\n",
      "15.512\t 0.2330\t\t 0.2330\n",
      "15.920\t 0.2330\t\t 0.2330\n",
      "16.328\t 0.2330\t\t 0.2330\n",
      "16.736\t 0.2330\t\t 0.2330\n",
      "17.144\t 0.2330\t\t 0.2330\n",
      "17.552\t 0.2330\t\t 0.2330\n",
      "17.960\t 0.2330\t\t 0.2330\n",
      "18.368\t 0.2330\t\t 0.2330\n",
      "18.776\t 0.2330\t\t 0.2330\n",
      "19.184\t 0.2330\t\t 0.2330\n",
      "19.592\t 0.2330\t\t 0.2330\n",
      "20.000\t 0.2330\t\t 0.2330\n"
     ]
    }
   ],
   "source": [
    "print('Lasso Regression')\n",
    "print('alpha\\t RMSE_train\\t RMSE_10cv\\n')\n",
    "alpha = np.linspace(.01,20,50)\n",
    "t_rmse = np.array([])\n",
    "cv_rmse = np.array([])\n",
    "\n",
    "for a in alpha:\n",
    "    lasso = Lasso(fit_intercept=True, alpha=a)\n",
    "    \n",
    "    # computing the RMSE on training data\n",
    "    lasso.fit(x,y)\n",
    "    p = lasso.predict(x)\n",
    "    err = p-y\n",
    "    total_error = np.dot(err,err)\n",
    "    rmse_train = np.sqrt(total_error/len(p))\n",
    "\n",
    "    # computing RMSE using 10-fold cross validation\n",
    "    kf = KFold(len(x), n_folds=10)\n",
    "    xval_err = 0\n",
    "    for train, test in kf:\n",
    "        lasso.fit(x[train], y[train])\n",
    "        p = lasso.predict(x[test])\n",
    "        err = p - y[test]\n",
    "        xval_err += np.dot(err,err)\n",
    "    rmse_10cv = np.sqrt(xval_err/len(x))\n",
    "    \n",
    "    t_rmse = np.append(t_rmse, [rmse_train])\n",
    "    cv_rmse = np.append(cv_rmse, [rmse_10cv])\n",
    "    print('{:.3f}\\t {:.4f}\\t\\t {:.4f}'.format(a,rmse_train,rmse_10cv))"
   ]
  },
  {
   "cell_type": "code",
   "execution_count": 209,
   "metadata": {
    "collapsed": false
   },
   "outputs": [
    {
     "data": {
      "image/png": "[encoded data removed]",
      "text/plain": [
       "<matplotlib.figure.Figure at 0x110b8ecd0>"
      ]
     },
     "metadata": {},
     "output_type": "display_data"
    }
   ],
   "source": [
    "pl.plot(alpha, t_rmse, label='RMSE-Train')\n",
    "pl.plot(alpha, cv_rmse, label='RMSE_XVal')\n",
    "pl.legend( ('RMSE-Train', 'RMSE_XVal'),loc='lower right' )\n",
    "pl.ylabel('RMSE')\n",
    "pl.xlabel('Alpha')\n",
    "pl.show()"
   ]
  },
  {
   "cell_type": "markdown",
   "metadata": {},
   "source": [
    "Function that takes in training data, target, a list of values for alpha, the model to be trained and the k value. Prints out a list of training scores for each value of alpha as well as KFold cross-validation scores. "
   ]
  },
  {
   "cell_type": "code",
   "execution_count": 212,
   "metadata": {
    "collapsed": false
   },
   "outputs": [],
   "source": [
    "def alpha_tuning(x,target,alphaList,model=\"ridge\",k=5):\n",
    "    t_rmse = np.array([])\n",
    "    cv_rmse = np.array([])\n",
    "    print('Method: %s' %model)\n",
    "    print('alpha\\t RMSE_train\\t RMSE_10cv\\n')\n",
    "    for alpha in alphaList:\n",
    "        if model == \"lasso\":\n",
    "            m = Lasso(fit_intercept=True, alpha=alpha)\n",
    "        elif model == \"ridge\": \n",
    "            m = Ridge(fit_intercept=True,alpha=alpha)\n",
    "        m.fit(x,target)\n",
    "        p = m.predict(x)\n",
    "        e = p-target\n",
    "        total_error = np.dot(e,e)\n",
    "        rmse_train = np.sqrt(total_error/len(p))\n",
    "        \n",
    "        kf = KFold(len(x), n_folds=k)\n",
    "        err = 0\n",
    "        for train,test in kf:\n",
    "            m.fit(x[train],target[train])\n",
    "            p = m.predict(x[test])\n",
    "            e = p-target[test]\n",
    "            err += np.dot(e,e)\n",
    "        \n",
    "        rmse_10cv = np.sqrt(err/len(x))\n",
    "        \n",
    "        t_rmse = np.append(t_rmse, [rmse_train])\n",
    "        cv_rmse = np.append(cv_rmse, [rmse_10cv])\n",
    "        \n",
    "        print('{:.3f}\\t {:.4f}\\t\\t {:.4f}'.format(alpha,rmse_train,rmse_10cv))\n",
    "    pl.plot(alphaList, t_rmse, label='RMSE-Train')\n",
    "    pl.plot(alphaList, cv_rmse, label='RMSE_XVal')\n",
    "    pl.legend( ('RMSE-Train', 'RMSE_XVal'),loc='lower right' )\n",
    "    pl.ylabel('RMSE')\n",
    "    pl.xlabel('Alpha')\n",
    "    pl.show()"
   ]
  },
  {
   "cell_type": "code",
   "execution_count": 213,
   "metadata": {
    "collapsed": false
   },
   "outputs": [
    {
     "name": "stdout",
     "output_type": "stream",
     "text": [
      "Method: ridge\n",
      "alpha\t RMSE_train\t RMSE_10cv\n",
      "\n",
      "0.010\t 0.1275\t\t 0.1369\n",
      "0.418\t 0.1282\t\t 0.1358\n",
      "0.826\t 0.1286\t\t 0.1357\n",
      "1.234\t 0.1290\t\t 0.1357\n",
      "1.642\t 0.1293\t\t 0.1358\n",
      "2.050\t 0.1296\t\t 0.1358\n",
      "2.458\t 0.1299\t\t 0.1359\n",
      "2.866\t 0.1301\t\t 0.1359\n",
      "3.274\t 0.1303\t\t 0.1360\n",
      "3.682\t 0.1305\t\t 0.1360\n",
      "4.090\t 0.1307\t\t 0.1361\n",
      "4.498\t 0.1308\t\t 0.1362\n",
      "4.906\t 0.1310\t\t 0.1362\n",
      "5.313\t 0.1311\t\t 0.1362\n",
      "5.721\t 0.1312\t\t 0.1363\n",
      "6.129\t 0.1314\t\t 0.1363\n",
      "6.537\t 0.1315\t\t 0.1364\n",
      "6.945\t 0.1316\t\t 0.1364\n",
      "7.353\t 0.1317\t\t 0.1365\n",
      "7.761\t 0.1318\t\t 0.1365\n",
      "8.169\t 0.1319\t\t 0.1365\n",
      "8.577\t 0.1320\t\t 0.1366\n",
      "8.985\t 0.1321\t\t 0.1366\n",
      "9.393\t 0.1322\t\t 0.1367\n",
      "9.801\t 0.1323\t\t 0.1367\n",
      "10.209\t 0.1323\t\t 0.1367\n",
      "10.617\t 0.1324\t\t 0.1368\n",
      "11.025\t 0.1325\t\t 0.1368\n",
      "11.433\t 0.1326\t\t 0.1368\n",
      "11.841\t 0.1326\t\t 0.1369\n",
      "12.249\t 0.1327\t\t 0.1369\n",
      "12.657\t 0.1328\t\t 0.1369\n",
      "13.065\t 0.1328\t\t 0.1370\n",
      "13.473\t 0.1329\t\t 0.1370\n",
      "13.881\t 0.1330\t\t 0.1370\n",
      "14.289\t 0.1330\t\t 0.1370\n",
      "14.697\t 0.1331\t\t 0.1371\n",
      "15.104\t 0.1331\t\t 0.1371\n",
      "15.512\t 0.1332\t\t 0.1371\n",
      "15.920\t 0.1332\t\t 0.1371\n",
      "16.328\t 0.1333\t\t 0.1372\n",
      "16.736\t 0.1333\t\t 0.1372\n",
      "17.144\t 0.1334\t\t 0.1372\n",
      "17.552\t 0.1334\t\t 0.1373\n",
      "17.960\t 0.1335\t\t 0.1373\n",
      "18.368\t 0.1335\t\t 0.1373\n",
      "18.776\t 0.1336\t\t 0.1373\n",
      "19.184\t 0.1336\t\t 0.1374\n",
      "19.592\t 0.1337\t\t 0.1374\n",
      "20.000\t 0.1337\t\t 0.1374\n"
     ]
    },
    {
     "data": {
      "image/png": "[encoded data removed]",
      "text/plain": [
       "<matplotlib.figure.Figure at 0x10e8eb190>"
      ]
     },
     "metadata": {},
     "output_type": "display_data"
    }
   ],
   "source": [
    "alpha_tuning(X_train,y_train,alpha)"
   ]
  },
  {
   "cell_type": "code",
   "execution_count": 214,
   "metadata": {
    "collapsed": false
   },
   "outputs": [
    {
     "name": "stdout",
     "output_type": "stream",
     "text": [
      "Method: lasso\n",
      "alpha\t RMSE_train\t RMSE_10cv\n",
      "\n",
      "0.010\t 0.1534\t\t 0.1537\n",
      "0.418\t 0.2297\t\t 0.2301\n",
      "0.826\t 0.2297\t\t 0.2301\n",
      "1.234\t 0.2297\t\t 0.2301\n",
      "1.642\t 0.2297\t\t 0.2301\n",
      "2.050\t 0.2297\t\t 0.2301\n",
      "2.458\t 0.2297\t\t 0.2301\n",
      "2.866\t 0.2297\t\t 0.2301\n",
      "3.274\t 0.2297\t\t 0.2301\n",
      "3.682\t 0.2297\t\t 0.2301\n",
      "4.090\t 0.2297\t\t 0.2301\n",
      "4.498\t 0.2297\t\t 0.2301\n",
      "4.906\t 0.2297\t\t 0.2301\n",
      "5.313\t 0.2297\t\t 0.2301\n",
      "5.721\t 0.2297\t\t 0.2301\n",
      "6.129\t 0.2297\t\t 0.2301\n",
      "6.537\t 0.2297\t\t 0.2301\n",
      "6.945\t 0.2297\t\t 0.2301\n",
      "7.353\t 0.2297\t\t 0.2301\n",
      "7.761\t 0.2297\t\t 0.2301\n",
      "8.169\t 0.2297\t\t 0.2301\n",
      "8.577\t 0.2297\t\t 0.2301\n",
      "8.985\t 0.2297\t\t 0.2301\n",
      "9.393\t 0.2297\t\t 0.2301\n",
      "9.801\t 0.2297\t\t 0.2301\n",
      "10.209\t 0.2297\t\t 0.2301\n",
      "10.617\t 0.2297\t\t 0.2301\n",
      "11.025\t 0.2297\t\t 0.2301\n",
      "11.433\t 0.2297\t\t 0.2301\n",
      "11.841\t 0.2297\t\t 0.2301\n",
      "12.249\t 0.2297\t\t 0.2301\n",
      "12.657\t 0.2297\t\t 0.2301\n",
      "13.065\t 0.2297\t\t 0.2301\n",
      "13.473\t 0.2297\t\t 0.2301\n",
      "13.881\t 0.2297\t\t 0.2301\n",
      "14.289\t 0.2297\t\t 0.2301\n",
      "14.697\t 0.2297\t\t 0.2301\n",
      "15.104\t 0.2297\t\t 0.2301\n",
      "15.512\t 0.2297\t\t 0.2301\n",
      "15.920\t 0.2297\t\t 0.2301\n",
      "16.328\t 0.2297\t\t 0.2301\n",
      "16.736\t 0.2297\t\t 0.2301\n",
      "17.144\t 0.2297\t\t 0.2301\n",
      "17.552\t 0.2297\t\t 0.2301\n",
      "17.960\t 0.2297\t\t 0.2301\n",
      "18.368\t 0.2297\t\t 0.2301\n",
      "18.776\t 0.2297\t\t 0.2301\n",
      "19.184\t 0.2297\t\t 0.2301\n",
      "19.592\t 0.2297\t\t 0.2301\n",
      "20.000\t 0.2297\t\t 0.2301\n"
     ]
    },
    {
     "data": {
      "image/png": "[encoded data removed]",
      "text/plain": [
       "<matplotlib.figure.Figure at 0x10e8ebc50>"
      ]
     },
     "metadata": {},
     "output_type": "display_data"
    }
   ],
   "source": [
    "alpha_tuning(X_train,y_train,alpha,\"lasso\")"
   ]
  },
  {
   "cell_type": "code",
   "execution_count": null,
   "metadata": {
    "collapsed": true
   },
   "outputs": [],
   "source": []
  },
  {
   "cell_type": "markdown",
   "metadata": {},
   "source": [
    "#### Summary\n",
    "The Ridge Regression behaved as expected for both trials, however the lasso regression seems to be giving a weird output. It jumps from RMSE-Train: 0.1534 and RMSE-XVal: 0.1537 with alpha value: 0.10 to levels 0.2297 and 0.2301 respectively, and stays there for all alpha values after that. The documentation says that \"... Defaults to 1.0. alpha = 0 is equivalent to an ordinary least square, solved by the *LinearRegression* object. **For numerical reasons, using alpha = 0 is with the Lasso object is not advised and you should prefer the LinearRegression object.\"** Tried again (below) with default alpha value, and it seems to be a more appropriate response but without a reference point I can't be sure."
   ]
  },
  {
   "cell_type": "code",
   "execution_count": 217,
   "metadata": {
    "collapsed": false
   },
   "outputs": [
    {
     "name": "stdout",
     "output_type": "stream",
     "text": [
      "0.232987797871\n"
     ]
    }
   ],
   "source": [
    "l = Lasso(fit_intercept=True)\n",
    "l.fit(X_train,y_train)\n",
    "p = lasso.predict(x)\n",
    "err = p-y\n",
    "total_error = np.dot(err,err)\n",
    "rmse_train = np.sqrt(total_error/len(p))\n",
    "print rmse_train"
   ]
  },
  {
   "cell_type": "markdown",
   "metadata": {},
   "source": [
    "### 1e. SGD Regressor and GridSearch CV "
   ]
  },
  {
   "cell_type": "code",
   "execution_count": 147,
   "metadata": {
    "collapsed": true
   },
   "outputs": [],
   "source": [
    "from sklearn import preprocessing"
   ]
  },
  {
   "cell_type": "markdown",
   "metadata": {},
   "source": [
    "Standarizing the features using scaling. "
   ]
  },
  {
   "cell_type": "code",
   "execution_count": 149,
   "metadata": {
    "collapsed": false
   },
   "outputs": [],
   "source": [
    "scaler = preprocessing.StandardScaler().fit(X_train)\n",
    "X_train_norm = scaler.transform(X_train)\n",
    "X_test_norm = scaler.transform(X_test)"
   ]
  },
  {
   "cell_type": "markdown",
   "metadata": {},
   "source": [
    "Setting up a param grid to be used in the grid search."
   ]
  },
  {
   "cell_type": "code",
   "execution_count": 156,
   "metadata": {
    "collapsed": true
   },
   "outputs": [],
   "source": [
    "plist = ['l2','l1']\n",
    "a = alpha.tolist()\n",
    "paramGrid = dict(penalty=plist,alpha=a)"
   ]
  },
  {
   "cell_type": "code",
   "execution_count": 158,
   "metadata": {
    "collapsed": true
   },
   "outputs": [],
   "source": [
    "sgdreg = SGDRegressor()"
   ]
  },
  {
   "cell_type": "markdown",
   "metadata": {},
   "source": [
    "Passing in a model, the param grid and the CV value to the GridSearchCV constructor"
   ]
  },
  {
   "cell_type": "code",
   "execution_count": 160,
   "metadata": {
    "collapsed": false
   },
   "outputs": [],
   "source": [
    "from sklearn.grid_search import GridSearchCV\n",
    "grid = GridSearchCV(sgdreg,paramGrid,cv=10)"
   ]
  },
  {
   "cell_type": "code",
   "execution_count": 162,
   "metadata": {
    "collapsed": false,
    "scrolled": true
   },
   "outputs": [
    {
     "data": {
      "text/plain": [
       "GridSearchCV(cv=10, error_score='raise',\n",
       "       estimator=SGDRegressor(alpha=0.0001, average=False, epsilon=0.1, eta0=0.01,\n",
       "       fit_intercept=True, l1_ratio=0.15, learning_rate='invscaling',\n",
       "       loss='squared_loss', n_iter=5, penalty='l2', power_t=0.25,\n",
       "       random_state=None, shuffle=True, verbose=0, warm_start=False),\n",
       "       fit_params={}, iid=True, n_jobs=1,\n",
       "       param_grid={'penalty': ['l2', 'l1'], 'alpha': [0.01, 0.41795918367346935, 0.8259183673469387, 1.233877551020408, 1.6418367346938774, 2.0497959183673466, 2.457755102040816, 2.865714285714285, 3.2736734693877545, 3.681632653061224, 4.0895918367346935, 4.497551020408163, 4.905510204081632, 5.3134693877...60204081632654, 18.368163265306123, 18.776122448979592, 19.18408163265306, 19.59204081632653, 20.0]},\n",
       "       pre_dispatch='2*n_jobs', refit=True, scoring=None, verbose=0)"
      ]
     },
     "execution_count": 162,
     "metadata": {},
     "output_type": "execute_result"
    }
   ],
   "source": [
    "grid.fit(X_train_norm,y_train)"
   ]
  },
  {
   "cell_type": "markdown",
   "metadata": {},
   "source": [
    "**A list of scores for each every different combination value in the param grid**"
   ]
  },
  {
   "cell_type": "code",
   "execution_count": 163,
   "metadata": {
    "collapsed": false,
    "scrolled": true
   },
   "outputs": [
    {
     "data": {
      "text/plain": [
       "[mean: 0.63077, std: 0.04596, params: {'penalty': 'l2', 'alpha': 0.01},\n",
       " mean: 0.62729, std: 0.03733, params: {'penalty': 'l1', 'alpha': 0.01},\n",
       " mean: 0.62520, std: 0.04105, params: {'penalty': 'l2', 'alpha': 0.41795918367346935},\n",
       " mean: -0.00972, std: 0.00992, params: {'penalty': 'l1', 'alpha': 0.41795918367346935},\n",
       " mean: 0.61827, std: 0.04026, params: {'penalty': 'l2', 'alpha': 0.8259183673469387},\n",
       " mean: -0.01035, std: 0.01102, params: {'penalty': 'l1', 'alpha': 0.8259183673469387},\n",
       " mean: 0.59030, std: 0.04124, params: {'penalty': 'l2', 'alpha': 1.233877551020408},\n",
       " mean: -0.00822, std: 0.00903, params: {'penalty': 'l1', 'alpha': 1.233877551020408},\n",
       " mean: 0.59248, std: 0.05369, params: {'penalty': 'l2', 'alpha': 1.6418367346938774},\n",
       " mean: -0.01015, std: 0.01115, params: {'penalty': 'l1', 'alpha': 1.6418367346938774},\n",
       " mean: 0.59162, std: 0.04575, params: {'penalty': 'l2', 'alpha': 2.0497959183673466},\n",
       " mean: -0.00942, std: 0.01087, params: {'penalty': 'l1', 'alpha': 2.0497959183673466},\n",
       " mean: 0.59020, std: 0.03775, params: {'penalty': 'l2', 'alpha': 2.457755102040816},\n",
       " mean: -0.01011, std: 0.01099, params: {'penalty': 'l1', 'alpha': 2.457755102040816},\n",
       " mean: 0.57904, std: 0.04543, params: {'penalty': 'l2', 'alpha': 2.865714285714285},\n",
       " mean: -0.00994, std: 0.01001, params: {'penalty': 'l1', 'alpha': 2.865714285714285},\n",
       " mean: 0.56391, std: 0.04061, params: {'penalty': 'l2', 'alpha': 3.2736734693877545},\n",
       " mean: -0.00955, std: 0.01048, params: {'penalty': 'l1', 'alpha': 3.2736734693877545},\n",
       " mean: 0.58024, std: 0.04253, params: {'penalty': 'l2', 'alpha': 3.681632653061224},\n",
       " mean: -0.00968, std: 0.01150, params: {'penalty': 'l1', 'alpha': 3.681632653061224},\n",
       " mean: 0.55871, std: 0.05347, params: {'penalty': 'l2', 'alpha': 4.0895918367346935},\n",
       " mean: -0.00913, std: 0.01035, params: {'penalty': 'l1', 'alpha': 4.0895918367346935},\n",
       " mean: 0.56116, std: 0.04464, params: {'penalty': 'l2', 'alpha': 4.497551020408163},\n",
       " mean: -0.00933, std: 0.01025, params: {'penalty': 'l1', 'alpha': 4.497551020408163},\n",
       " mean: 0.54043, std: 0.03567, params: {'penalty': 'l2', 'alpha': 4.905510204081632},\n",
       " mean: -0.00925, std: 0.00997, params: {'penalty': 'l1', 'alpha': 4.905510204081632},\n",
       " mean: 0.54795, std: 0.03592, params: {'penalty': 'l2', 'alpha': 5.313469387755101},\n",
       " mean: -0.00874, std: 0.00919, params: {'penalty': 'l1', 'alpha': 5.313469387755101},\n",
       " mean: 0.54083, std: 0.04343, params: {'penalty': 'l2', 'alpha': 5.721428571428571},\n",
       " mean: -0.00961, std: 0.01076, params: {'penalty': 'l1', 'alpha': 5.721428571428571},\n",
       " mean: 0.52563, std: 0.04174, params: {'penalty': 'l2', 'alpha': 6.12938775510204},\n",
       " mean: -0.00969, std: 0.00996, params: {'penalty': 'l1', 'alpha': 6.12938775510204},\n",
       " mean: 0.53982, std: 0.05488, params: {'penalty': 'l2', 'alpha': 6.537346938775509},\n",
       " mean: -0.00938, std: 0.01038, params: {'penalty': 'l1', 'alpha': 6.537346938775509},\n",
       " mean: 0.55457, std: 0.05224, params: {'penalty': 'l2', 'alpha': 6.9453061224489785},\n",
       " mean: -0.00942, std: 0.00956, params: {'penalty': 'l1', 'alpha': 6.9453061224489785},\n",
       " mean: 0.51925, std: 0.05656, params: {'penalty': 'l2', 'alpha': 7.353265306122448},\n",
       " mean: -0.01092, std: 0.01226, params: {'penalty': 'l1', 'alpha': 7.353265306122448},\n",
       " mean: 0.48935, std: 0.03648, params: {'penalty': 'l2', 'alpha': 7.761224489795917},\n",
       " mean: -0.01028, std: 0.01264, params: {'penalty': 'l1', 'alpha': 7.761224489795917},\n",
       " mean: 0.48734, std: 0.05784, params: {'penalty': 'l2', 'alpha': 8.169183673469387},\n",
       " mean: -0.01010, std: 0.01177, params: {'penalty': 'l1', 'alpha': 8.169183673469387},\n",
       " mean: 0.52463, std: 0.04500, params: {'penalty': 'l2', 'alpha': 8.577142857142857},\n",
       " mean: -0.00920, std: 0.01018, params: {'penalty': 'l1', 'alpha': 8.577142857142857},\n",
       " mean: 0.48300, std: 0.04252, params: {'penalty': 'l2', 'alpha': 8.985102040816326},\n",
       " mean: -0.01011, std: 0.01137, params: {'penalty': 'l1', 'alpha': 8.985102040816326},\n",
       " mean: 0.49166, std: 0.04236, params: {'penalty': 'l2', 'alpha': 9.393061224489795},\n",
       " mean: -0.00965, std: 0.01079, params: {'penalty': 'l1', 'alpha': 9.393061224489795},\n",
       " mean: 0.50832, std: 0.05077, params: {'penalty': 'l2', 'alpha': 9.801020408163264},\n",
       " mean: -0.00978, std: 0.01011, params: {'penalty': 'l1', 'alpha': 9.801020408163264},\n",
       " mean: 0.49383, std: 0.05197, params: {'penalty': 'l2', 'alpha': 10.208979591836734},\n",
       " mean: -0.00866, std: 0.00970, params: {'penalty': 'l1', 'alpha': 10.208979591836734},\n",
       " mean: 0.48935, std: 0.03919, params: {'penalty': 'l2', 'alpha': 10.616938775510203},\n",
       " mean: -0.00897, std: 0.00989, params: {'penalty': 'l1', 'alpha': 10.616938775510203},\n",
       " mean: 0.50774, std: 0.04433, params: {'penalty': 'l2', 'alpha': 11.024897959183672},\n",
       " mean: -0.00989, std: 0.01043, params: {'penalty': 'l1', 'alpha': 11.024897959183672},\n",
       " mean: 0.48238, std: 0.05068, params: {'penalty': 'l2', 'alpha': 11.432857142857141},\n",
       " mean: -0.00816, std: 0.00919, params: {'penalty': 'l1', 'alpha': 11.432857142857141},\n",
       " mean: 0.48001, std: 0.04338, params: {'penalty': 'l2', 'alpha': 11.84081632653061},\n",
       " mean: -0.00973, std: 0.00923, params: {'penalty': 'l1', 'alpha': 11.84081632653061},\n",
       " mean: 0.46777, std: 0.04946, params: {'penalty': 'l2', 'alpha': 12.24877551020408},\n",
       " mean: -0.00843, std: 0.01078, params: {'penalty': 'l1', 'alpha': 12.24877551020408},\n",
       " mean: 0.47596, std: 0.04762, params: {'penalty': 'l2', 'alpha': 12.65673469387755},\n",
       " mean: -0.00926, std: 0.01159, params: {'penalty': 'l1', 'alpha': 12.65673469387755},\n",
       " mean: 0.46301, std: 0.06378, params: {'penalty': 'l2', 'alpha': 13.064693877551019},\n",
       " mean: -0.01032, std: 0.01106, params: {'penalty': 'l1', 'alpha': 13.064693877551019},\n",
       " mean: 0.45491, std: 0.04898, params: {'penalty': 'l2', 'alpha': 13.472653061224488},\n",
       " mean: -0.00946, std: 0.01050, params: {'penalty': 'l1', 'alpha': 13.472653061224488},\n",
       " mean: 0.43587, std: 0.05406, params: {'penalty': 'l2', 'alpha': 13.880612244897957},\n",
       " mean: -0.00923, std: 0.00925, params: {'penalty': 'l1', 'alpha': 13.880612244897957},\n",
       " mean: 0.45684, std: 0.04192, params: {'penalty': 'l2', 'alpha': 14.288571428571426},\n",
       " mean: -0.00956, std: 0.00995, params: {'penalty': 'l1', 'alpha': 14.288571428571426},\n",
       " mean: 0.42331, std: 0.04801, params: {'penalty': 'l2', 'alpha': 14.696530612244896},\n",
       " mean: -0.01004, std: 0.01163, params: {'penalty': 'l1', 'alpha': 14.696530612244896},\n",
       " mean: 0.40658, std: 0.08265, params: {'penalty': 'l2', 'alpha': 15.104489795918365},\n",
       " mean: -0.00878, std: 0.00978, params: {'penalty': 'l1', 'alpha': 15.104489795918365},\n",
       " mean: 0.44125, std: 0.05707, params: {'penalty': 'l2', 'alpha': 15.512448979591834},\n",
       " mean: -0.01038, std: 0.01108, params: {'penalty': 'l1', 'alpha': 15.512448979591834},\n",
       " mean: 0.42877, std: 0.06449, params: {'penalty': 'l2', 'alpha': 15.920408163265304},\n",
       " mean: -0.00887, std: 0.01004, params: {'penalty': 'l1', 'alpha': 15.920408163265304},\n",
       " mean: 0.40086, std: 0.05597, params: {'penalty': 'l2', 'alpha': 16.328367346938776},\n",
       " mean: -0.00988, std: 0.01345, params: {'penalty': 'l1', 'alpha': 16.328367346938776},\n",
       " mean: 0.44947, std: 0.06425, params: {'penalty': 'l2', 'alpha': 16.736326530612246},\n",
       " mean: -0.00907, std: 0.01075, params: {'penalty': 'l1', 'alpha': 16.736326530612246},\n",
       " mean: 0.43314, std: 0.05440, params: {'penalty': 'l2', 'alpha': 17.144285714285715},\n",
       " mean: -0.00996, std: 0.01257, params: {'penalty': 'l1', 'alpha': 17.144285714285715},\n",
       " mean: 0.41305, std: 0.04164, params: {'penalty': 'l2', 'alpha': 17.552244897959184},\n",
       " mean: -0.00948, std: 0.01092, params: {'penalty': 'l1', 'alpha': 17.552244897959184},\n",
       " mean: 0.40946, std: 0.06539, params: {'penalty': 'l2', 'alpha': 17.960204081632654},\n",
       " mean: -0.00992, std: 0.01088, params: {'penalty': 'l1', 'alpha': 17.960204081632654},\n",
       " mean: 0.41284, std: 0.06792, params: {'penalty': 'l2', 'alpha': 18.368163265306123},\n",
       " mean: -0.01056, std: 0.01105, params: {'penalty': 'l1', 'alpha': 18.368163265306123},\n",
       " mean: 0.43097, std: 0.04854, params: {'penalty': 'l2', 'alpha': 18.776122448979592},\n",
       " mean: -0.01089, std: 0.01203, params: {'penalty': 'l1', 'alpha': 18.776122448979592},\n",
       " mean: 0.36879, std: 0.04267, params: {'penalty': 'l2', 'alpha': 19.18408163265306},\n",
       " mean: -0.00955, std: 0.00960, params: {'penalty': 'l1', 'alpha': 19.18408163265306},\n",
       " mean: 0.40632, std: 0.04327, params: {'penalty': 'l2', 'alpha': 19.59204081632653},\n",
       " mean: -0.00982, std: 0.01020, params: {'penalty': 'l1', 'alpha': 19.59204081632653},\n",
       " mean: 0.42718, std: 0.05762, params: {'penalty': 'l2', 'alpha': 20.0},\n",
       " mean: -0.00917, std: 0.00929, params: {'penalty': 'l1', 'alpha': 20.0}]"
      ]
     },
     "execution_count": 163,
     "metadata": {},
     "output_type": "execute_result"
    }
   ],
   "source": [
    "grid.grid_scores_"
   ]
  },
  {
   "cell_type": "markdown",
   "metadata": {},
   "source": [
    "**The best scores and params GridSearch found **"
   ]
  },
  {
   "cell_type": "code",
   "execution_count": 165,
   "metadata": {
    "collapsed": false
   },
   "outputs": [
    {
     "name": "stdout",
     "output_type": "stream",
     "text": [
      "0.630768064791\n",
      "{'penalty': 'l2', 'alpha': 0.01}\n"
     ]
    }
   ],
   "source": [
    "print grid.best_score_\n",
    "print grid.best_params_"
   ]
  },
  {
   "cell_type": "markdown",
   "metadata": {},
   "source": [
    "**Applygint the model to the test data**"
   ]
  },
  {
   "cell_type": "code",
   "execution_count": 167,
   "metadata": {
    "collapsed": true
   },
   "outputs": [],
   "source": [
    "sgd_test = SGDRegressor(penalty='l2',alpha=0.01)"
   ]
  },
  {
   "cell_type": "code",
   "execution_count": 168,
   "metadata": {
    "collapsed": false
   },
   "outputs": [
    {
     "data": {
      "text/plain": [
       "SGDRegressor(alpha=0.01, average=False, epsilon=0.1, eta0=0.01,\n",
       "       fit_intercept=True, l1_ratio=0.15, learning_rate='invscaling',\n",
       "       loss='squared_loss', n_iter=5, penalty='l2', power_t=0.25,\n",
       "       random_state=None, shuffle=True, verbose=0, warm_start=False)"
      ]
     },
     "execution_count": 168,
     "metadata": {},
     "output_type": "execute_result"
    }
   ],
   "source": [
    "sgd_test.fit(X_test,y_test)"
   ]
  },
  {
   "cell_type": "code",
   "execution_count": 170,
   "metadata": {
    "collapsed": false
   },
   "outputs": [],
   "source": [
    "p = sgd_test.predict(X_test)\n",
    "err = p-y_test\n",
    "total_error = np.dot(err,err)\n",
    "rmse_test = np.sqrt(total_error/len(p))"
   ]
  },
  {
   "cell_type": "code",
   "execution_count": 171,
   "metadata": {
    "collapsed": false
   },
   "outputs": [
    {
     "name": "stdout",
     "output_type": "stream",
     "text": [
      "0.145968045095\n"
     ]
    }
   ],
   "source": [
    "print rmse_test"
   ]
  },
  {
   "cell_type": "markdown",
   "metadata": {},
   "source": [
    "**Applying model selection to determine the best l1_ratio**"
   ]
  },
  {
   "cell_type": "code",
   "execution_count": 183,
   "metadata": {
    "collapsed": false
   },
   "outputs": [
    {
     "name": "stdout",
     "output_type": "stream",
     "text": [
      "SGD Regression\n",
      "l1_ratio\t RMSE_train\t RMSE_10cv\n",
      "\n",
      "0.100\t 0.1376\t\t 0.1258\n",
      "0.137\t 0.1386\t\t 0.1250\n",
      "0.174\t 0.1378\t\t 0.1258\n",
      "0.211\t 0.1378\t\t 0.1255\n",
      "0.248\t 0.1385\t\t 0.1251\n",
      "0.285\t 0.1414\t\t 0.1263\n",
      "0.323\t 0.1378\t\t 0.1249\n",
      "0.360\t 0.1388\t\t 0.1258\n",
      "0.397\t 0.1379\t\t 0.1252\n",
      "0.434\t 0.1379\t\t 0.1257\n",
      "0.471\t 0.1377\t\t 0.1259\n",
      "0.508\t 0.1379\t\t 0.1262\n",
      "0.545\t 0.1378\t\t 0.1249\n",
      "0.582\t 0.1379\t\t 0.1251\n",
      "0.619\t 0.1391\t\t 0.1260\n",
      "0.656\t 0.1379\t\t 0.1251\n",
      "0.693\t 0.1381\t\t 0.1252\n",
      "0.730\t 0.1412\t\t 0.1251\n",
      "0.768\t 0.1390\t\t 0.1260\n",
      "0.805\t 0.1379\t\t 0.1252\n",
      "0.842\t 0.1385\t\t 0.1260\n",
      "0.879\t 0.1378\t\t 0.1250\n",
      "0.916\t 0.1402\t\t 0.1257\n",
      "0.953\t 0.1383\t\t 0.1251\n",
      "0.990\t 0.1378\t\t 0.1252\n"
     ]
    }
   ],
   "source": [
    "print('SGD Regression')\n",
    "print('l1_ratio\\t RMSE_train\\t RMSE_10cv\\n')\n",
    "l1_ratio = np.linspace(0.1,.99,25)\n",
    "t_rmse = np.array([])\n",
    "cv_rmse = np.array([])\n",
    "\n",
    "for l in l1_ratio:\n",
    "    sgd = SGDRegressor(penalty='elasticnet',l1_ratio=l)\n",
    "    sgd.fit(X_train,y_train)\n",
    "    p = sgd.predict(X_train)\n",
    "    err = p-y_train\n",
    "    total_error = np.dot(err,err)\n",
    "    rmse_train = np.sqrt(total_error/len(p))\n",
    "    \n",
    "    kf = KFold(len(X_train), n_folds=10)\n",
    "    xval_err = 0\n",
    "    for train, test in kf:\n",
    "        sgd.fit(X_train[train], y_train[train])\n",
    "        p = sgd.predict(X_train[test])\n",
    "        err = p - y_train[test]\n",
    "        xval_err += np.dot(err,err)\n",
    "    rmse_10cv = np.sqrt(xval_err/len(x))\n",
    "    \n",
    "    t_rmse = np.append(t_rmse, [rmse_train])\n",
    "    cv_rmse = np.append(cv_rmse, [rmse_10cv])\n",
    "    print('{:.3f}\\t {:.4f}\\t\\t {:.4f}'.format(l,rmse_train,rmse_10cv))"
   ]
  },
  {
   "cell_type": "markdown",
   "metadata": {},
   "source": [
    "**Applying the best l1_ratio to the test data**"
   ]
  },
  {
   "cell_type": "code",
   "execution_count": 193,
   "metadata": {
    "collapsed": true
   },
   "outputs": [],
   "source": [
    "sgd_test2 = SGDRegressor(penalty='elasticnet',l1_ratio=0.323)\n",
    "sgd_test2.fit(X_test,y_test)\n",
    "p = sgd_test2.predict(X_test)\n",
    "err = p-y_test\n",
    "total_error = np.dot(err,err)\n",
    "rmse_test = np.sqrt(total_error/len(p))"
   ]
  },
  {
   "cell_type": "code",
   "execution_count": 194,
   "metadata": {
    "collapsed": false
   },
   "outputs": [
    {
     "name": "stdout",
     "output_type": "stream",
     "text": [
      "0.14581220883\n"
     ]
    }
   ],
   "source": [
    "print rmse_test"
   ]
  },
  {
   "cell_type": "markdown",
   "metadata": {},
   "source": [
    "**Summary**\n",
    "It would appear that perhaps we should have tried more paramaters with the grid search as simply changing the penalty reveals a slightly better result of: 0.1458(penalty=elasticNet) compared to 0.1459(penalty=l2). It leads you to wonder what other hyperparamater tuning we could do in order to further improve our results."
   ]
  }
 ],
 "metadata": {
  "kernelspec": {
   "display_name": "Python 2",
   "language": "python",
   "name": "python2"
  },
  "language_info": {
   "codemirror_mode": {
    "name": "ipython",
    "version": 2
   },
   "file_extension": ".py",
   "mimetype": "text/x-python",
   "name": "python",
   "nbconvert_exporter": "python",
   "pygments_lexer": "ipython2",
   "version": "2.7.11"
  }
 },
 "nbformat": 4,
 "nbformat_minor": 0
}
